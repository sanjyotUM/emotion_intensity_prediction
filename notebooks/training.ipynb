{
 "cells": [
  {
   "cell_type": "code",
   "execution_count": 41,
   "metadata": {},
   "outputs": [],
   "source": [
    "import numpy as np\n",
    "import pandas as pd\n",
    "import matplotlib.pyplot as plt\n",
    "import seaborn as sns\n",
    "\n",
    "from sklearn.linear_model import LinearRegression\n",
    "from sklearn.ensemble import RandomForestRegressor\n",
    "from sklearn.model_selection import GridSearchCV\n",
    "from sklearn.metrics import mean_absolute_error, mean_squared_error\n",
    "from sklearn.svm import SVR\n",
    "\n",
    "sns.set_style('whitegrid')\n",
    "%matplotlib inline\n",
    "pd.set_option('max_colwidth', 500)"
   ]
  },
  {
   "cell_type": "code",
   "execution_count": 10,
   "metadata": {},
   "outputs": [],
   "source": [
    "train_file_path = '../datasets/calculated_features/train.csv'\n",
    "test_file_path = '../datasets/calculated_features/test.csv'"
   ]
  },
  {
   "cell_type": "code",
   "execution_count": 11,
   "metadata": {},
   "outputs": [],
   "source": [
    "train = pd.read_csv(train_file_path)\n",
    "test = pd.read_csv(test_file_path)"
   ]
  },
  {
   "cell_type": "code",
   "execution_count": 12,
   "metadata": {},
   "outputs": [
    {
     "data": {
      "text/html": [
       "<div>\n",
       "<style scoped>\n",
       "    .dataframe tbody tr th:only-of-type {\n",
       "        vertical-align: middle;\n",
       "    }\n",
       "\n",
       "    .dataframe tbody tr th {\n",
       "        vertical-align: top;\n",
       "    }\n",
       "\n",
       "    .dataframe thead th {\n",
       "        text-align: right;\n",
       "    }\n",
       "</style>\n",
       "<table border=\"1\" class=\"dataframe\">\n",
       "  <thead>\n",
       "    <tr style=\"text-align: right;\">\n",
       "      <th></th>\n",
       "      <th>id</th>\n",
       "      <th>tweet</th>\n",
       "      <th>intensity</th>\n",
       "      <th>emotion</th>\n",
       "      <th>no_of_tokens</th>\n",
       "      <th>avg_token_len</th>\n",
       "      <th>upper_case_tokens</th>\n",
       "      <th>title_case_tokens</th>\n",
       "      <th>exclamation_mark_count</th>\n",
       "      <th>question_mark_count</th>\n",
       "      <th>...</th>\n",
       "      <th>max_anger_sim</th>\n",
       "      <th>max_fear_sim</th>\n",
       "      <th>joy_affect_score</th>\n",
       "      <th>sad_affect_score</th>\n",
       "      <th>anger_affect_score</th>\n",
       "      <th>fear_affect_score</th>\n",
       "      <th>joy_senselevel_score</th>\n",
       "      <th>sad_senselevel_score</th>\n",
       "      <th>anger_senselevel_score</th>\n",
       "      <th>fear_senselevel_score</th>\n",
       "    </tr>\n",
       "  </thead>\n",
       "  <tbody>\n",
       "    <tr>\n",
       "      <td>0</td>\n",
       "      <td>10000</td>\n",
       "      <td>How the fu*k! Who the heck! moved my fridge!... should I knock the landlord door. #angry #mad ##</td>\n",
       "      <td>0.938</td>\n",
       "      <td>anger</td>\n",
       "      <td>24</td>\n",
       "      <td>3.208333</td>\n",
       "      <td>0.041667</td>\n",
       "      <td>0.125000</td>\n",
       "      <td>3</td>\n",
       "      <td>0</td>\n",
       "      <td>...</td>\n",
       "      <td>0.683652</td>\n",
       "      <td>0.574110</td>\n",
       "      <td>0.000</td>\n",
       "      <td>0.500</td>\n",
       "      <td>1.512</td>\n",
       "      <td>0.547</td>\n",
       "      <td>0</td>\n",
       "      <td>1</td>\n",
       "      <td>2</td>\n",
       "      <td>1</td>\n",
       "    </tr>\n",
       "    <tr>\n",
       "      <td>1</td>\n",
       "      <td>10001</td>\n",
       "      <td>So my Indian Uber driver just called someone the N word. If I wasn't in a moving vehicle I'd have jumped out #disgusted</td>\n",
       "      <td>0.896</td>\n",
       "      <td>anger</td>\n",
       "      <td>27</td>\n",
       "      <td>3.592593</td>\n",
       "      <td>0.111111</td>\n",
       "      <td>0.259259</td>\n",
       "      <td>0</td>\n",
       "      <td>0</td>\n",
       "      <td>...</td>\n",
       "      <td>0.465649</td>\n",
       "      <td>0.499185</td>\n",
       "      <td>0.000</td>\n",
       "      <td>0.295</td>\n",
       "      <td>0.000</td>\n",
       "      <td>0.000</td>\n",
       "      <td>0</td>\n",
       "      <td>0</td>\n",
       "      <td>0</td>\n",
       "      <td>0</td>\n",
       "    </tr>\n",
       "    <tr>\n",
       "      <td>2</td>\n",
       "      <td>10002</td>\n",
       "      <td>@DPD_UK I asked for my parcel to be delivered to a pick up store not my address #fuming #poorcustomerservice</td>\n",
       "      <td>0.896</td>\n",
       "      <td>anger</td>\n",
       "      <td>22</td>\n",
       "      <td>4.045455</td>\n",
       "      <td>0.090909</td>\n",
       "      <td>0.045455</td>\n",
       "      <td>0</td>\n",
       "      <td>0</td>\n",
       "      <td>...</td>\n",
       "      <td>0.433860</td>\n",
       "      <td>0.532098</td>\n",
       "      <td>0.172</td>\n",
       "      <td>0.000</td>\n",
       "      <td>0.812</td>\n",
       "      <td>0.000</td>\n",
       "      <td>0</td>\n",
       "      <td>0</td>\n",
       "      <td>1</td>\n",
       "      <td>0</td>\n",
       "    </tr>\n",
       "    <tr>\n",
       "      <td>3</td>\n",
       "      <td>10003</td>\n",
       "      <td>so ef whichever butt wipe pulled the fire alarm in davis bc I was sound asleep #pissed #angry #upset #tired #sad #tired #hangry ######</td>\n",
       "      <td>0.896</td>\n",
       "      <td>anger</td>\n",
       "      <td>29</td>\n",
       "      <td>3.586207</td>\n",
       "      <td>0.034483</td>\n",
       "      <td>0.034483</td>\n",
       "      <td>0</td>\n",
       "      <td>0</td>\n",
       "      <td>...</td>\n",
       "      <td>0.683652</td>\n",
       "      <td>0.574110</td>\n",
       "      <td>0.000</td>\n",
       "      <td>1.406</td>\n",
       "      <td>2.672</td>\n",
       "      <td>1.324</td>\n",
       "      <td>0</td>\n",
       "      <td>1</td>\n",
       "      <td>2</td>\n",
       "      <td>2</td>\n",
       "    </tr>\n",
       "    <tr>\n",
       "      <td>4</td>\n",
       "      <td>10004</td>\n",
       "      <td>Don't join @BTCare they put the phone down on you, talk over you and are rude. Taking money out of my acc willynilly! #fuming</td>\n",
       "      <td>0.896</td>\n",
       "      <td>anger</td>\n",
       "      <td>29</td>\n",
       "      <td>3.517241</td>\n",
       "      <td>0.000000</td>\n",
       "      <td>0.068966</td>\n",
       "      <td>1</td>\n",
       "      <td>0</td>\n",
       "      <td>...</td>\n",
       "      <td>0.433860</td>\n",
       "      <td>0.556819</td>\n",
       "      <td>0.531</td>\n",
       "      <td>0.281</td>\n",
       "      <td>0.886</td>\n",
       "      <td>0.000</td>\n",
       "      <td>1</td>\n",
       "      <td>0</td>\n",
       "      <td>2</td>\n",
       "      <td>0</td>\n",
       "    </tr>\n",
       "  </tbody>\n",
       "</table>\n",
       "<p>5 rows × 37 columns</p>\n",
       "</div>"
      ],
      "text/plain": [
       "      id  \\\n",
       "0  10000   \n",
       "1  10001   \n",
       "2  10002   \n",
       "3  10003   \n",
       "4  10004   \n",
       "\n",
       "                                                                                                                                    tweet  \\\n",
       "0                                        How the fu*k! Who the heck! moved my fridge!... should I knock the landlord door. #angry #mad ##   \n",
       "1                So my Indian Uber driver just called someone the N word. If I wasn't in a moving vehicle I'd have jumped out #disgusted    \n",
       "2                            @DPD_UK I asked for my parcel to be delivered to a pick up store not my address #fuming #poorcustomerservice   \n",
       "3  so ef whichever butt wipe pulled the fire alarm in davis bc I was sound asleep #pissed #angry #upset #tired #sad #tired #hangry ######   \n",
       "4           Don't join @BTCare they put the phone down on you, talk over you and are rude. Taking money out of my acc willynilly! #fuming   \n",
       "\n",
       "   intensity emotion  no_of_tokens  avg_token_len  upper_case_tokens  \\\n",
       "0      0.938   anger            24       3.208333           0.041667   \n",
       "1      0.896   anger            27       3.592593           0.111111   \n",
       "2      0.896   anger            22       4.045455           0.090909   \n",
       "3      0.896   anger            29       3.586207           0.034483   \n",
       "4      0.896   anger            29       3.517241           0.000000   \n",
       "\n",
       "   title_case_tokens  exclamation_mark_count  question_mark_count  ...  \\\n",
       "0           0.125000                       3                    0  ...   \n",
       "1           0.259259                       0                    0  ...   \n",
       "2           0.045455                       0                    0  ...   \n",
       "3           0.034483                       0                    0  ...   \n",
       "4           0.068966                       1                    0  ...   \n",
       "\n",
       "   max_anger_sim  max_fear_sim  joy_affect_score  sad_affect_score  \\\n",
       "0       0.683652      0.574110             0.000             0.500   \n",
       "1       0.465649      0.499185             0.000             0.295   \n",
       "2       0.433860      0.532098             0.172             0.000   \n",
       "3       0.683652      0.574110             0.000             1.406   \n",
       "4       0.433860      0.556819             0.531             0.281   \n",
       "\n",
       "   anger_affect_score  fear_affect_score  joy_senselevel_score  \\\n",
       "0               1.512              0.547                     0   \n",
       "1               0.000              0.000                     0   \n",
       "2               0.812              0.000                     0   \n",
       "3               2.672              1.324                     0   \n",
       "4               0.886              0.000                     1   \n",
       "\n",
       "   sad_senselevel_score  anger_senselevel_score  fear_senselevel_score  \n",
       "0                     1                       2                      1  \n",
       "1                     0                       0                      0  \n",
       "2                     0                       1                      0  \n",
       "3                     1                       2                      2  \n",
       "4                     0                       2                      0  \n",
       "\n",
       "[5 rows x 37 columns]"
      ]
     },
     "execution_count": 12,
     "metadata": {},
     "output_type": "execute_result"
    }
   ],
   "source": [
    "train.head()"
   ]
  },
  {
   "cell_type": "code",
   "execution_count": 60,
   "metadata": {},
   "outputs": [],
   "source": [
    "features = [\n",
    "    'no_of_tokens',\n",
    "     'avg_token_len',\n",
    "     'upper_case_tokens',\n",
    "     'title_case_tokens',\n",
    "     'exclamation_mark_count',\n",
    "     'question_mark_count',\n",
    "     'quote_mark_count',\n",
    "     'emoji_count',\n",
    "     'joy_valuable_tok_score',\n",
    "     'sad_valuable_tok_score',\n",
    "     'anger_valuable_tok_score',\n",
    "     'fear_valuable_token_score',\n",
    "     'joy_syn_ant_score',\n",
    "     'sad_syn_ant_score',\n",
    "     'fear_syn_ant_score',\n",
    "     'anger_syn_ant_score',\n",
    "     'cuss_count',\n",
    "     'avg_joy_sim',\n",
    "     'avg_sad_sim',\n",
    "     'avg_anger_sim',\n",
    "     'avg_fear_sim',\n",
    "     'max_joy_sim',\n",
    "     'max_sad_sim',\n",
    "     'max_anger_sim',\n",
    "     'max_fear_sim',\n",
    "     'joy_affect_score',\n",
    "     'sad_affect_score',\n",
    "     'anger_affect_score',\n",
    "     'fear_affect_score',\n",
    "     'joy_senselevel_score',\n",
    "     'sad_senselevel_score',\n",
    "     'anger_senselevel_score',\n",
    "     'fear_senselevel_score'\n",
    "]\n",
    "\n",
    "label = ['intensity']\n",
    "\n",
    "emotions = ['joy', 'sadness', 'fear', 'anger']"
   ]
  },
  {
   "cell_type": "code",
   "execution_count": 147,
   "metadata": {},
   "outputs": [],
   "source": [
    "def fit_predict_evaluate(gs_clf, X_train, y_train, X_test, y_test):\n",
    "    gs_clf.fit(X_train, y_train)\n",
    "    \n",
    "    pred_train = gs_clf.predict(X_train)\n",
    "    pred_test = gs_clf.predict(X_test)\n",
    "    \n",
    "    mae_test = mean_absolute_error(y_test, pred_test)\n",
    "    mse_test = mean_squared_error(y_test, pred_test)\n",
    "    \n",
    "    mae_train = mean_absolute_error(y_train, pred_train)\n",
    "    mse_train = mean_squared_error(y_train, pred_train)\n",
    "    \n",
    "    pred_train_s = pd.Series(data=pred_train.flatten(), index=y_train.index, name='intensity')\n",
    "    pred_test_s = pd.Series(data=pred_test.flatten(), index=y_test.index, name='intensity')\n",
    "    \n",
    "    train_corr = y_train['intensity'].corr(pred_train_s)\n",
    "    test_corr = y_test['intensity'].corr(pred_test_s)\n",
    "    \n",
    "    res = {\n",
    "        'mae_train': mae_train, 'mae_test': mae_test, \n",
    "        'mse_train': mse_train, 'mse_test': mse_test, \n",
    "        'train_corr': train_corr, 'test_corr': test_corr\n",
    "    }\n",
    "    return gs_clf.best_estimator_, res"
   ]
  },
  {
   "cell_type": "code",
   "execution_count": 153,
   "metadata": {},
   "outputs": [],
   "source": [
    "def get_results_for_emotion(emotion, train=train, test=test):\n",
    "    \n",
    "    train_e = train[train['emotion'] == emotion]\n",
    "    test_e = test[test['emotion'] == emotion]\n",
    "    print(train_e.shape, test_e.shape)\n",
    "\n",
    "    X_train = train_e[features]\n",
    "    y_train = train_e[label]\n",
    "    X_test = test_e[features]\n",
    "    y_test = test_e[label]\n",
    "    \n",
    "    # Initialize regressors\n",
    "    clf_LR = LinearRegression(n_jobs=-1)\n",
    "    parameters_LR = {\n",
    "        \"normalize\": [True, False]\n",
    "    }\n",
    "\n",
    "    clf_RF = RandomForestRegressor(random_state=42, n_jobs=-1)\n",
    "    parameters_RF = {\n",
    "        \"n_estimators\": [10, 20, 50, 100, 250],\n",
    "        'max_depth': [2, 4, 6, 8, 10]\n",
    "    }\n",
    "\n",
    "    clf_svm = SVR()\n",
    "    parameters_svm = {\n",
    "        'kernel': ['linear', 'rbf'],\n",
    "        'C':[0.01, 0.3, 0.1, 1, 10, 50]\n",
    "    }\n",
    "\n",
    "    classifiers = [clf_LR, clf_RF, clf_svm]\n",
    "    parameters = [parameters_LR, parameters_RF, parameters_svm]\n",
    "    \n",
    "    trained_classifiers = {}\n",
    "    results = {}\n",
    "    \n",
    "    # Train\n",
    "\n",
    "    for clf, params in zip(classifiers, parameters):\n",
    "        gs_clf = GridSearchCV(clf, params, n_jobs=-1, verbose=5, cv=5)\n",
    "        clf_LR, res = fit_predict_evaluate(gs_clf, X_train=X_train, y_train=y_train, X_test=X_test, y_test=y_test)\n",
    "        trained_classifiers[clf_LR.__class__.__name__] = clf_LR\n",
    "        results[clf_LR.__class__.__name__] = res\n",
    "        \n",
    "    return pd.DataFrame(results), trained_classifiers"
   ]
  },
  {
   "cell_type": "code",
   "execution_count": 154,
   "metadata": {},
   "outputs": [
    {
     "name": "stdout",
     "output_type": "stream",
     "text": [
      "Solving joy...\n",
      "(902, 37) (714, 37)\n",
      "Fitting 5 folds for each of 2 candidates, totalling 10 fits\n"
     ]
    },
    {
     "name": "stderr",
     "output_type": "stream",
     "text": [
      "[Parallel(n_jobs=-1)]: Using backend LokyBackend with 8 concurrent workers.\n",
      "[Parallel(n_jobs=-1)]: Done   4 out of  10 | elapsed:    2.1s remaining:    3.2s\n",
      "[Parallel(n_jobs=-1)]: Done   7 out of  10 | elapsed:    2.3s remaining:    1.0s\n",
      "[Parallel(n_jobs=-1)]: Done  10 out of  10 | elapsed:    2.3s remaining:    0.0s\n",
      "[Parallel(n_jobs=-1)]: Done  10 out of  10 | elapsed:    2.3s finished\n"
     ]
    },
    {
     "name": "stdout",
     "output_type": "stream",
     "text": [
      "Fitting 5 folds for each of 25 candidates, totalling 125 fits\n"
     ]
    },
    {
     "name": "stderr",
     "output_type": "stream",
     "text": [
      "[Parallel(n_jobs=-1)]: Using backend LokyBackend with 8 concurrent workers.\n",
      "[Parallel(n_jobs=-1)]: Done   2 tasks      | elapsed:    0.3s\n",
      "[Parallel(n_jobs=-1)]: Done  56 tasks      | elapsed:    3.8s\n",
      "[Parallel(n_jobs=-1)]: Done 125 out of 125 | elapsed:   15.4s finished\n",
      "/home/sanjyot/miniconda3/envs/prnn/lib/python3.7/site-packages/sklearn/model_selection/_search.py:715: DataConversionWarning: A column-vector y was passed when a 1d array was expected. Please change the shape of y to (n_samples,), for example using ravel().\n",
      "  self.best_estimator_.fit(X, y, **fit_params)\n"
     ]
    },
    {
     "name": "stdout",
     "output_type": "stream",
     "text": [
      "Fitting 5 folds for each of 12 candidates, totalling 60 fits\n"
     ]
    },
    {
     "name": "stderr",
     "output_type": "stream",
     "text": [
      "[Parallel(n_jobs=-1)]: Using backend LokyBackend with 8 concurrent workers.\n",
      "[Parallel(n_jobs=-1)]: Done   2 tasks      | elapsed:    0.2s\n",
      "[Parallel(n_jobs=-1)]: Done  32 out of  60 | elapsed:    1.2s remaining:    1.0s\n",
      "[Parallel(n_jobs=-1)]: Done  58 out of  60 | elapsed:   50.1s remaining:    1.7s\n",
      "[Parallel(n_jobs=-1)]: Done  60 out of  60 | elapsed:   51.3s finished\n",
      "/home/sanjyot/miniconda3/envs/prnn/lib/python3.7/site-packages/sklearn/utils/validation.py:724: DataConversionWarning: A column-vector y was passed when a 1d array was expected. Please change the shape of y to (n_samples, ), for example using ravel().\n",
      "  y = column_or_1d(y, warn=True)\n"
     ]
    },
    {
     "name": "stdout",
     "output_type": "stream",
     "text": [
      "Solving sadness...\n",
      "(860, 37) (673, 37)\n",
      "Fitting 5 folds for each of 2 candidates, totalling 10 fits\n",
      "Fitting 5 folds for each of 25 candidates, totalling 125 fits\n"
     ]
    },
    {
     "name": "stderr",
     "output_type": "stream",
     "text": [
      "[Parallel(n_jobs=-1)]: Using backend LokyBackend with 8 concurrent workers.\n",
      "[Parallel(n_jobs=-1)]: Done   4 out of  10 | elapsed:    0.0s remaining:    0.0s\n",
      "[Parallel(n_jobs=-1)]: Done   7 out of  10 | elapsed:    0.1s remaining:    0.0s\n",
      "[Parallel(n_jobs=-1)]: Done  10 out of  10 | elapsed:    0.1s remaining:    0.0s\n",
      "[Parallel(n_jobs=-1)]: Done  10 out of  10 | elapsed:    0.1s finished\n",
      "[Parallel(n_jobs=-1)]: Using backend LokyBackend with 8 concurrent workers.\n",
      "[Parallel(n_jobs=-1)]: Done   2 tasks      | elapsed:    0.3s\n",
      "[Parallel(n_jobs=-1)]: Done  56 tasks      | elapsed:    6.9s\n",
      "[Parallel(n_jobs=-1)]: Done 125 out of 125 | elapsed:   21.7s finished\n",
      "/home/sanjyot/miniconda3/envs/prnn/lib/python3.7/site-packages/sklearn/model_selection/_search.py:715: DataConversionWarning: A column-vector y was passed when a 1d array was expected. Please change the shape of y to (n_samples,), for example using ravel().\n",
      "  self.best_estimator_.fit(X, y, **fit_params)\n"
     ]
    },
    {
     "name": "stdout",
     "output_type": "stream",
     "text": [
      "Fitting 5 folds for each of 12 candidates, totalling 60 fits\n"
     ]
    },
    {
     "name": "stderr",
     "output_type": "stream",
     "text": [
      "[Parallel(n_jobs=-1)]: Using backend LokyBackend with 8 concurrent workers.\n",
      "[Parallel(n_jobs=-1)]: Done   2 tasks      | elapsed:    0.1s\n",
      "[Parallel(n_jobs=-1)]: Done  32 out of  60 | elapsed:    0.9s remaining:    0.8s\n",
      "[Parallel(n_jobs=-1)]: Done  60 out of  60 | elapsed:  1.1min finished\n",
      "/home/sanjyot/miniconda3/envs/prnn/lib/python3.7/site-packages/sklearn/utils/validation.py:724: DataConversionWarning: A column-vector y was passed when a 1d array was expected. Please change the shape of y to (n_samples, ), for example using ravel().\n",
      "  y = column_or_1d(y, warn=True)\n",
      "/home/sanjyot/miniconda3/envs/prnn/lib/python3.7/site-packages/sklearn/svm/base.py:193: FutureWarning: The default value of gamma will change from 'auto' to 'scale' in version 0.22 to account better for unscaled features. Set gamma explicitly to 'auto' or 'scale' to avoid this warning.\n",
      "  \"avoid this warning.\", FutureWarning)\n",
      "[Parallel(n_jobs=-1)]: Using backend LokyBackend with 8 concurrent workers.\n",
      "[Parallel(n_jobs=-1)]: Done   4 out of  10 | elapsed:    0.0s remaining:    0.1s\n",
      "[Parallel(n_jobs=-1)]: Done   7 out of  10 | elapsed:    0.1s remaining:    0.0s\n"
     ]
    },
    {
     "name": "stdout",
     "output_type": "stream",
     "text": [
      "Solving fear...\n",
      "(1257, 37) (993, 37)\n",
      "Fitting 5 folds for each of 2 candidates, totalling 10 fits\n",
      "Fitting 5 folds for each of 25 candidates, totalling 125 fits\n"
     ]
    },
    {
     "name": "stderr",
     "output_type": "stream",
     "text": [
      "[Parallel(n_jobs=-1)]: Done  10 out of  10 | elapsed:    0.1s remaining:    0.0s\n",
      "[Parallel(n_jobs=-1)]: Done  10 out of  10 | elapsed:    0.1s finished\n",
      "[Parallel(n_jobs=-1)]: Using backend LokyBackend with 8 concurrent workers.\n",
      "[Parallel(n_jobs=-1)]: Done   2 tasks      | elapsed:    0.3s\n",
      "[Parallel(n_jobs=-1)]: Done  56 tasks      | elapsed:    5.6s\n",
      "[Parallel(n_jobs=-1)]: Done 125 out of 125 | elapsed:   17.9s finished\n",
      "/home/sanjyot/miniconda3/envs/prnn/lib/python3.7/site-packages/sklearn/model_selection/_search.py:715: DataConversionWarning: A column-vector y was passed when a 1d array was expected. Please change the shape of y to (n_samples,), for example using ravel().\n",
      "  self.best_estimator_.fit(X, y, **fit_params)\n"
     ]
    },
    {
     "name": "stdout",
     "output_type": "stream",
     "text": [
      "Fitting 5 folds for each of 12 candidates, totalling 60 fits\n"
     ]
    },
    {
     "name": "stderr",
     "output_type": "stream",
     "text": [
      "[Parallel(n_jobs=-1)]: Using backend LokyBackend with 8 concurrent workers.\n",
      "[Parallel(n_jobs=-1)]: Done   2 tasks      | elapsed:    0.3s\n",
      "[Parallel(n_jobs=-1)]: Done  58 out of  60 | elapsed:   55.1s remaining:    1.9s\n",
      "[Parallel(n_jobs=-1)]: Done  60 out of  60 | elapsed:  1.0min finished\n",
      "/home/sanjyot/miniconda3/envs/prnn/lib/python3.7/site-packages/sklearn/utils/validation.py:724: DataConversionWarning: A column-vector y was passed when a 1d array was expected. Please change the shape of y to (n_samples, ), for example using ravel().\n",
      "  y = column_or_1d(y, warn=True)\n",
      "[Parallel(n_jobs=-1)]: Using backend LokyBackend with 8 concurrent workers.\n",
      "[Parallel(n_jobs=-1)]: Done   4 out of  10 | elapsed:    0.0s remaining:    0.0s\n"
     ]
    },
    {
     "name": "stdout",
     "output_type": "stream",
     "text": [
      "Solving anger...\n",
      "(941, 37) (760, 37)\n",
      "Fitting 5 folds for each of 2 candidates, totalling 10 fits\n",
      "Fitting 5 folds for each of 25 candidates, totalling 125 fits\n"
     ]
    },
    {
     "name": "stderr",
     "output_type": "stream",
     "text": [
      "[Parallel(n_jobs=-1)]: Done   7 out of  10 | elapsed:    0.1s remaining:    0.0s\n",
      "[Parallel(n_jobs=-1)]: Done  10 out of  10 | elapsed:    0.1s remaining:    0.0s\n",
      "[Parallel(n_jobs=-1)]: Done  10 out of  10 | elapsed:    0.1s finished\n",
      "[Parallel(n_jobs=-1)]: Using backend LokyBackend with 8 concurrent workers.\n",
      "[Parallel(n_jobs=-1)]: Done   2 tasks      | elapsed:    0.3s\n",
      "[Parallel(n_jobs=-1)]: Done  56 tasks      | elapsed:    3.9s\n",
      "[Parallel(n_jobs=-1)]: Done 125 out of 125 | elapsed:   13.8s finished\n",
      "/home/sanjyot/miniconda3/envs/prnn/lib/python3.7/site-packages/sklearn/model_selection/_search.py:715: DataConversionWarning: A column-vector y was passed when a 1d array was expected. Please change the shape of y to (n_samples,), for example using ravel().\n",
      "  self.best_estimator_.fit(X, y, **fit_params)\n"
     ]
    },
    {
     "name": "stdout",
     "output_type": "stream",
     "text": [
      "Fitting 5 folds for each of 12 candidates, totalling 60 fits\n"
     ]
    },
    {
     "name": "stderr",
     "output_type": "stream",
     "text": [
      "[Parallel(n_jobs=-1)]: Using backend LokyBackend with 8 concurrent workers.\n",
      "[Parallel(n_jobs=-1)]: Done   2 tasks      | elapsed:    0.1s\n",
      "[Parallel(n_jobs=-1)]: Done  60 out of  60 | elapsed:  1.0min finished\n",
      "/home/sanjyot/miniconda3/envs/prnn/lib/python3.7/site-packages/sklearn/utils/validation.py:724: DataConversionWarning: A column-vector y was passed when a 1d array was expected. Please change the shape of y to (n_samples, ), for example using ravel().\n",
      "  y = column_or_1d(y, warn=True)\n"
     ]
    }
   ],
   "source": [
    "all_emotion_results = dict()\n",
    "\n",
    "for emotion in emotions:\n",
    "    print('Solving {}...'.format(emotion))\n",
    "    res_df, classifiers = get_results_for_emotion(emotion, train=train, test=test)\n",
    "    this_dict = {'result_df': res_df, 'classifiers': classifiers}\n",
    "    all_emotion_results[emotion] = this_dict"
   ]
  },
  {
   "cell_type": "code",
   "execution_count": 170,
   "metadata": {},
   "outputs": [
    {
     "data": {
      "text/html": [
       "<div>\n",
       "<style scoped>\n",
       "    .dataframe tbody tr th:only-of-type {\n",
       "        vertical-align: middle;\n",
       "    }\n",
       "\n",
       "    .dataframe tbody tr th {\n",
       "        vertical-align: top;\n",
       "    }\n",
       "\n",
       "    .dataframe thead th {\n",
       "        text-align: right;\n",
       "    }\n",
       "</style>\n",
       "<table border=\"1\" class=\"dataframe\">\n",
       "  <thead>\n",
       "    <tr style=\"text-align: right;\">\n",
       "      <th></th>\n",
       "      <th>LinearRegression</th>\n",
       "      <th>RandomForestRegressor</th>\n",
       "      <th>SVR</th>\n",
       "    </tr>\n",
       "  </thead>\n",
       "  <tbody>\n",
       "    <tr>\n",
       "      <td>mae_train</td>\n",
       "      <td>0.107130</td>\n",
       "      <td>0.065810</td>\n",
       "      <td>0.108795</td>\n",
       "    </tr>\n",
       "    <tr>\n",
       "      <td>mae_test</td>\n",
       "      <td>0.129895</td>\n",
       "      <td>0.127960</td>\n",
       "      <td>0.133119</td>\n",
       "    </tr>\n",
       "    <tr>\n",
       "      <td>mse_train</td>\n",
       "      <td>0.018047</td>\n",
       "      <td>0.006627</td>\n",
       "      <td>0.018725</td>\n",
       "    </tr>\n",
       "    <tr>\n",
       "      <td>mse_test</td>\n",
       "      <td>0.025433</td>\n",
       "      <td>0.025528</td>\n",
       "      <td>0.026599</td>\n",
       "    </tr>\n",
       "    <tr>\n",
       "      <td>train_corr</td>\n",
       "      <td>0.720996</td>\n",
       "      <td>0.916962</td>\n",
       "      <td>0.708723</td>\n",
       "    </tr>\n",
       "    <tr>\n",
       "      <td>test_corr</td>\n",
       "      <td>0.606618</td>\n",
       "      <td>0.607646</td>\n",
       "      <td>0.584229</td>\n",
       "    </tr>\n",
       "  </tbody>\n",
       "</table>\n",
       "</div>"
      ],
      "text/plain": [
       "            LinearRegression  RandomForestRegressor       SVR\n",
       "mae_train           0.107130               0.065810  0.108795\n",
       "mae_test            0.129895               0.127960  0.133119\n",
       "mse_train           0.018047               0.006627  0.018725\n",
       "mse_test            0.025433               0.025528  0.026599\n",
       "train_corr          0.720996               0.916962  0.708723\n",
       "test_corr           0.606618               0.607646  0.584229"
      ]
     },
     "execution_count": 170,
     "metadata": {},
     "output_type": "execute_result"
    }
   ],
   "source": [
    "all_emotion_results['fear']['result_df']"
   ]
  },
  {
   "cell_type": "code",
   "execution_count": 171,
   "metadata": {},
   "outputs": [
    {
     "name": "stdout",
     "output_type": "stream",
     "text": [
      "Mean correlation over all 4 emotions: 0.6263797193608739\n"
     ]
    }
   ],
   "source": [
    "corr_list = []\n",
    "for emo in emotions:\n",
    "    max_corr_val = max(all_emotion_results[emo]['result_df'].loc['test_corr'])\n",
    "#     print(emo, max_corr_val)\n",
    "    corr_list.append(max_corr_val)\n",
    "    \n",
    "print('Mean correlation over all 4 emotions: {}'.format(np.mean(corr_list)))"
   ]
  }
 ],
 "metadata": {
  "kernelspec": {
   "display_name": "Python 3",
   "language": "python",
   "name": "python3"
  },
  "language_info": {
   "codemirror_mode": {
    "name": "ipython",
    "version": 3
   },
   "file_extension": ".py",
   "mimetype": "text/x-python",
   "name": "python",
   "nbconvert_exporter": "python",
   "pygments_lexer": "ipython3",
   "version": "3.7.4"
  }
 },
 "nbformat": 4,
 "nbformat_minor": 4
}
